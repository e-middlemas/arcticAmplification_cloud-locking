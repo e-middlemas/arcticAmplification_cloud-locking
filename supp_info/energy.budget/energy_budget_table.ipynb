{
 "cells": [
  {
   "cell_type": "code",
   "execution_count": 1,
   "metadata": {},
   "outputs": [],
   "source": [
    "import numpy as np\n",
    "import pandas as pd\n",
    "import xarray as xr\n",
    "from glob import glob"
   ]
  },
  {
   "cell_type": "code",
   "execution_count": 2,
   "metadata": {},
   "outputs": [],
   "source": [
    "path = \"/glade/work/eleanorm/cldlck_data/cldlck_polar/\""
   ]
  },
  {
   "cell_type": "code",
   "execution_count": 3,
   "metadata": {},
   "outputs": [],
   "source": [
    "rundict = {\n",
    "    'CNT': ['b.e11.B1850C5CN.f09_g16.005','b.e11.B1850C5CN.f09_g16.005_2xCO2'],\n",
    "    'GCL': ['B1850C5CN.clock.9p.global','B1850C5CN.clock.9p.2xCO2'],\n",
    "    'ACL': ['B1850C5CN.clock.9p.70-90N','B1850C5CN.clock.9p.70-90N.2xCO2']\n",
    "}\n",
    "configs = list(rundict.keys())"
   ]
  },
  {
   "cell_type": "code",
   "execution_count": 4,
   "metadata": {},
   "outputs": [
    {
     "data": {
      "text/plain": [
       "['CNT', 'GCL', 'ACL']"
      ]
     },
     "execution_count": 4,
     "metadata": {},
     "output_type": "execute_result"
    }
   ],
   "source": [
    "configs"
   ]
  },
  {
   "cell_type": "code",
   "execution_count": 5,
   "metadata": {},
   "outputs": [],
   "source": [
    "def calc_nht_1x(config):\n",
    "    compdeets = {}\n",
    "    compdeets['cam'] = ['atm','tot']\n",
    "    compdeets['pop'] = 'ocnnht'\n",
    "    compdeets['cice'] = 'icenht'\n",
    "    compnames = list(compdeets.keys())\n",
    "    \n",
    "    compvals = []\n",
    "    for comp in compnames:\n",
    "        co2name = glob(path+rundict[config][1]+\".\"+comp+\"*heattransport.nc\")\n",
    "        htco2 = xr.open_dataset(co2name[0])\n",
    "        pictrlname = glob(path+rundict[config][0]+\".\"+comp+\"*heattransport.nc\")\n",
    "        ht = xr.open_dataset(pictrlname[0])\n",
    "        if comp=='cam':\n",
    "            for atm in compdeets['cam']:\n",
    "                pival = ht[atm].loc[dict(lat=slice(69.5,70.5))].values[0]\n",
    "                compvals.append(pival)\n",
    "        else:\n",
    "            pival = ht[compdeets[comp]].loc[dict(lat=slice(69.5,70.5))].values[0]\n",
    "            compvals.append(pival)\n",
    "    \n",
    "    return compvals"
   ]
  },
  {
   "cell_type": "code",
   "execution_count": 6,
   "metadata": {},
   "outputs": [],
   "source": [
    "def calc_nht_response(config):\n",
    "    compdeets = {}\n",
    "    compdeets['cam'] = ['atm','tot']\n",
    "    compdeets['pop'] = 'ocnnht'\n",
    "    compdeets['cice'] = 'icenht'\n",
    "    compnames = list(compdeets.keys())\n",
    "    \n",
    "    compvals = []\n",
    "    for comp in compnames:\n",
    "        co2name = glob(path+rundict[config][1]+\".\"+comp+\"*heattransport.nc\")\n",
    "        htco2 = xr.open_dataset(co2name[0])\n",
    "        pictrlname = glob(path+rundict[config][0]+\".\"+comp+\"*heattransport.nc\")\n",
    "        ht = xr.open_dataset(pictrlname[0])\n",
    "        if comp=='cam':\n",
    "            for atm in compdeets['cam']:\n",
    "                co2val = htco2[atm].loc[dict(lat=slice(69.5,70.5))].values[0]\n",
    "                pival = ht[atm].loc[dict(lat=slice(69.5,70.5))].values[0]\n",
    "                compvals.append(co2val-pival)\n",
    "        else:\n",
    "            co2val = htco2[compdeets[comp]].loc[dict(lat=slice(69.5,70.5))].values[0]\n",
    "            pival = ht[compdeets[comp]].loc[dict(lat=slice(69.5,70.5))].values[0]\n",
    "            compvals.append(co2val-pival)\n",
    "    \n",
    "    return compvals"
   ]
  },
  {
   "cell_type": "markdown",
   "metadata": {},
   "source": [
    "## Extract NHT in 1xCO2 simulation"
   ]
  },
  {
   "cell_type": "code",
   "execution_count": 9,
   "metadata": {},
   "outputs": [],
   "source": [
    "df1x = {}\n",
    "for config in configs:\n",
    "    df1x[config] = calc_nht_1x(config)\n",
    "\n",
    "df1x = pd.DataFrame.from_dict(df1x)\n",
    "df1x.insert(0, 'comp', ['atm','total','ocean','ice'])\n",
    "df1x.set_index('comp', inplace=True)"
   ]
  },
  {
   "cell_type": "code",
   "execution_count": 10,
   "metadata": {},
   "outputs": [
    {
     "data": {
      "text/html": [
       "<div>\n",
       "<style scoped>\n",
       "    .dataframe tbody tr th:only-of-type {\n",
       "        vertical-align: middle;\n",
       "    }\n",
       "\n",
       "    .dataframe tbody tr th {\n",
       "        vertical-align: top;\n",
       "    }\n",
       "\n",
       "    .dataframe thead th {\n",
       "        text-align: right;\n",
       "    }\n",
       "</style>\n",
       "<table border=\"1\" class=\"dataframe\">\n",
       "  <thead>\n",
       "    <tr style=\"text-align: right;\">\n",
       "      <th></th>\n",
       "      <th>CNT</th>\n",
       "      <th>GCL</th>\n",
       "      <th>ACL</th>\n",
       "    </tr>\n",
       "    <tr>\n",
       "      <th>comp</th>\n",
       "      <th></th>\n",
       "      <th></th>\n",
       "      <th></th>\n",
       "    </tr>\n",
       "  </thead>\n",
       "  <tbody>\n",
       "    <tr>\n",
       "      <th>atm</th>\n",
       "      <td>1.552443</td>\n",
       "      <td>1.557920</td>\n",
       "      <td>1.566005</td>\n",
       "    </tr>\n",
       "    <tr>\n",
       "      <th>total</th>\n",
       "      <td>1.766670</td>\n",
       "      <td>1.753875</td>\n",
       "      <td>1.773767</td>\n",
       "    </tr>\n",
       "    <tr>\n",
       "      <th>ocean</th>\n",
       "      <td>0.163620</td>\n",
       "      <td>0.162416</td>\n",
       "      <td>0.164584</td>\n",
       "    </tr>\n",
       "    <tr>\n",
       "      <th>ice</th>\n",
       "      <td>0.034534</td>\n",
       "      <td>0.026477</td>\n",
       "      <td>0.031708</td>\n",
       "    </tr>\n",
       "  </tbody>\n",
       "</table>\n",
       "</div>"
      ],
      "text/plain": [
       "            CNT       GCL       ACL\n",
       "comp                               \n",
       "atm    1.552443  1.557920  1.566005\n",
       "total  1.766670  1.753875  1.773767\n",
       "ocean  0.163620  0.162416  0.164584\n",
       "ice    0.034534  0.026477  0.031708"
      ]
     },
     "execution_count": 10,
     "metadata": {},
     "output_type": "execute_result"
    }
   ],
   "source": [
    "df1x"
   ]
  },
  {
   "cell_type": "code",
   "execution_count": 12,
   "metadata": {},
   "outputs": [],
   "source": [
    "neworder = ['atm','ocean','ice','total']\n",
    "df1x=df1x.reindex(neworder)"
   ]
  },
  {
   "cell_type": "code",
   "execution_count": 13,
   "metadata": {},
   "outputs": [],
   "source": [
    "df1x.to_csv('./nht_1xCO2_cldlck.csv',index=True)"
   ]
  },
  {
   "cell_type": "markdown",
   "metadata": {},
   "source": [
    "## Extract NHT response to CO2 doubling"
   ]
  },
  {
   "cell_type": "code",
   "execution_count": null,
   "metadata": {},
   "outputs": [],
   "source": [
    "df = {}\n",
    "for config in configs:\n",
    "    df[config] = calc_nht_response(config)\n",
    "\n",
    "df = pd.DataFrame.from_dict(df)\n",
    "df.insert(0, 'comp', ['atm','total','ocean','ice'])\n",
    "df.set_index('comp', inplace=True)"
   ]
  },
  {
   "cell_type": "code",
   "execution_count": null,
   "metadata": {},
   "outputs": [],
   "source": [
    "df"
   ]
  },
  {
   "cell_type": "code",
   "execution_count": null,
   "metadata": {},
   "outputs": [],
   "source": [
    "neworder = ['atm','ocean','ice','total']\n",
    "df=df.reindex(neworder)"
   ]
  },
  {
   "cell_type": "code",
   "execution_count": null,
   "metadata": {},
   "outputs": [],
   "source": [
    "df.to_csv('./nht_response_2xCO2_cldlck.csv',index=True)"
   ]
  }
 ],
 "metadata": {
  "kernelspec": {
   "display_name": "Python [conda env:miniconda3-analysis]",
   "language": "python",
   "name": "conda-env-miniconda3-analysis-py"
  },
  "language_info": {
   "codemirror_mode": {
    "name": "ipython",
    "version": 3
   },
   "file_extension": ".py",
   "mimetype": "text/x-python",
   "name": "python",
   "nbconvert_exporter": "python",
   "pygments_lexer": "ipython3",
   "version": "3.7.3"
  }
 },
 "nbformat": 4,
 "nbformat_minor": 4
}
